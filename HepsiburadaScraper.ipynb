{
  "cells": [
    {
      "cell_type": "markdown",
      "metadata": {
        "id": "view-in-github",
        "colab_type": "text"
      },
      "source": [
        "<a href=\"https://colab.research.google.com/github/iremakalp/Hepsiburada_Scraper/blob/main/HepsiburadaScraper.ipynb\" target=\"_parent\"><img src=\"https://colab.research.google.com/assets/colab-badge.svg\" alt=\"Open In Colab\"/></a>"
      ]
    },
    {
      "cell_type": "markdown",
      "metadata": {
        "id": "mBAPyhAM2Kcg"
      },
      "source": [
        "### **1. Hepsiburada Scraper**"
      ]
    },
    {
      "cell_type": "code",
      "source": [
        "!pip install selenium"
      ],
      "metadata": {
        "id": "wmGDzb7Krxb5"
      },
      "execution_count": null,
      "outputs": []
    },
    {
      "cell_type": "code",
      "execution_count": null,
      "metadata": {
        "id": "K5K5hNt92Olu"
      },
      "outputs": [],
      "source": [
        "import sys\n",
        "import time\n",
        "import pandas as pd\n",
        "from selenium import webdriver\n",
        "from selenium.common.exceptions import NoSuchElementException, WebDriverException\n",
        "from selenium.webdriver.common.keys import Keys\n",
        "from selenium.webdriver.common.by import By\n",
        "\n",
        "def hepsiburada_scrape():\n",
        "    def initialize():\n",
        "        def preference(scrape_input, question):\n",
        "                while (scrape_input.lower() != \"y\") or (scrape_input.lower() != \"n\"):\n",
        "                    if scrape_input.lower() == \"y\":\n",
        "                        output = True\n",
        "                        break\n",
        "\n",
        "                    elif scrape_input.lower() == \"n\":\n",
        "                        output = False\n",
        "                        break\n",
        "\n",
        "                    else:\n",
        "                        print(\"Invalid response.\")\n",
        "                        scrape_input = input(question) \n",
        "\n",
        "                return output\n",
        "\n",
        "        print(\"\"\"\n",
        "            ---------------------------------------------------------\n",
        "            -         Welcome Hepsiburada Scraper!                  -\n",
        "            ---------------------------------------------------------\n",
        "        \"\"\")\n",
        "\n",
        "        global driver_path,product_name, file, review_texts,customer_name_texts,scrape_customer_name,path\n",
        "\n",
        "        product_name = input(\"Enter the address of the page where the comments will be scrape: \")\n",
        "        file = input(\"Name of the Excel file to be created: \")\n",
        "        file = file + \".xlsx\"\n",
        "        driver_path = input(\"chromedriver file path: \")\n",
        "\n",
        "        review_texts = []\n",
        "        customer_name_texts = []\n",
        "\n",
        "        scrape_customer_name_question = \"Scrape customer names?(y/n): \"\n",
        "        scrape_customer_name_input = input(scrape_customer_name_question)\n",
        "        scrape_customer_name = preference(scrape_customer_name_input, scrape_customer_name_question)\n",
        "        \n",
        "        path = driver_path\n",
        "        print(path)\n",
        "\n",
        "    def scrape():\n",
        "        try:\n",
        "            driver = webdriver.Chrome(path)\n",
        "            print(\"Chromedriver accessed.\")\n",
        "\n",
        "        except WebDriverException:\n",
        "            print(\"Unable to use chromedriver.\")\n",
        "            sys.exit()\n",
        "\n",
        "        try: \n",
        "            driver.get(product_name)\n",
        "            driver.maximize_window()\n",
        "            time.sleep(10)\n",
        "            print(\"went to Hepsiburada address.\")\n",
        "\n",
        "        except:\n",
        "            print(\"Unable to access Hepsiburada.\")\n",
        "            sys.exit()\n",
        "        \n",
        "        pageNumber=driver.find_elements(By.CLASS_NAME,\"hermes-FiltersContainer-module-1iZdH\")\n",
        "        pageNumber=int(pageNumber.text.split()[4])\n",
        "        if pageNumber % 30 == 0:\n",
        "            review_page_count = pageNumber // 10\n",
        "        else:\n",
        "            review_page_count = (pageNumber // 10) + 1\n",
        "                \n",
        "        i = 1\n",
        "        while i <=review_page_count:\n",
        "\n",
        "            url = product_name + \"?sayfa=\" + str(i)\n",
        "            driver.get(url)\n",
        "            time.sleep(40)\n",
        "            print(\"Veriler çekiliyor. Sayfa: \" + str(i))\n",
        "\n",
        "            reviews = driver.find_elements(By.XPATH,\"//*[@id='hermes-voltran-comments']//span[@itemprop='description']\")\n",
        "            for review in reviews:\n",
        "                review = review.text\n",
        "                review_texts.append(review)\n",
        "\n",
        "            customer_names = driver.find_elements(By.XPATH,\"//*[@id='hermes-voltran-comments']//span[@itemprop='author']\")\n",
        "            for customer_name in customer_names:\n",
        "                customer_name = customer_name.text\n",
        "                customer_name_texts.append(customer_name)  \n",
        "            \n",
        "            i += 1\n",
        "\n",
        "        driver.close()\n",
        "\n",
        "        length_list = [review_texts,customer_name_texts]\n",
        "        limit = map(len, length_list)\n",
        "        limit = min(list(limit))\n",
        "        limit -= 1\n",
        "        \n",
        "        review_texts_fin = review_texts[:limit]\n",
        "        df = pd.DataFrame({\"comments: \":review_texts_fin})\n",
        "\n",
        "        if scrape_customer_name:\n",
        "            customer_name_texts_fin = customer_name_texts[:limit]\n",
        "            df[\"customers\"] = customer_name_texts_fin\n",
        "\n",
        "        df.to_excel(file, header = True, index = False)\n",
        "\n",
        "        x = \"Data saved in: \"+ file \n",
        "        print(x)\n",
        "        time.sleep(5)\n",
        "\n",
        "    initialize()\n",
        "    scrape()\n",
        "\n",
        "if __name__ == \"__main__\":\n",
        "    hepsiburada_scrape()"
      ]
    },
    {
      "cell_type": "markdown",
      "metadata": {
        "id": "wLa57cSyHvyJ"
      },
      "source": [
        "### **2. Data Preprocessing**"
      ]
    },
    {
      "cell_type": "markdown",
      "metadata": {
        "id": "nT4NUpDQH2FJ"
      },
      "source": [
        "#### **2.1 Data Cleaning**"
      ]
    },
    {
      "cell_type": "code",
      "execution_count": null,
      "metadata": {
        "id": "i9FT_Ei9BlT7"
      },
      "outputs": [],
      "source": [
        "import time\n",
        "import re\n",
        "import string\n",
        "import pandas as pd"
      ]
    },
    {
      "cell_type": "code",
      "execution_count": null,
      "metadata": {
        "id": "x1-kgP-2BqhD"
      },
      "outputs": [],
      "source": [
        "data=pd.read_csv('AllComments.csv')"
      ]
    },
    {
      "cell_type": "code",
      "execution_count": null,
      "metadata": {
        "id": "YkJa9W_fBs4m"
      },
      "outputs": [],
      "source": [
        "#lower case\n",
        "#referans https://www.codegrepper.com/code-examples/python/pandas+convert+all+string+columns+to+lowercase\n",
        "data = data.applymap(lambda s:s.lower() if type(s) == str else s) "
      ]
    },
    {
      "cell_type": "code",
      "execution_count": null,
      "metadata": {
        "id": "8maftzB6Bs73"
      },
      "outputs": [],
      "source": [
        "#referans https://stackoverflow.com/questions/39782418/remove-punctuations-in-pandas\n",
        "data[\"comments\"] = data['comments'].str.replace('[^\\\\w\\\\s]','')"
      ]
    },
    {
      "cell_type": "code",
      "execution_count": null,
      "metadata": {
        "colab": {
          "base_uri": "https://localhost:8080/"
        },
        "id": "C6l-Yf0_Bs_e",
        "outputId": "e7c8d8e6-04ec-4b54-8a19-665a6125c8dc"
      },
      "outputs": [
        {
          "name": "stdout",
          "output_type": "stream",
          "text": [
            "[nltk_data] Downloading package stopwords to /root/nltk_data...\n",
            "[nltk_data]   Package stopwords is already up-to-date!\n"
          ]
        }
      ],
      "source": [
        "#stop_word nltk\n",
        "import nltk\n",
        "from nltk.corpus import stopwords\n",
        "comments = pd.DataFrame(columns = ['comments'])\n",
        "nltk.download('stopwords')\n",
        "stopWords = stopwords.words('turkish')\n",
        "for i in range(len(data)):\n",
        "    comment = str(data['comments'][i]).split()\n",
        "    comment = [word for word in comment if  word not in stopWords]\n",
        "    comment = ' '.join(comment)\n",
        "    comments.loc[len(comments)] = [comment]"
      ]
    },
    {
      "cell_type": "code",
      "execution_count": null,
      "metadata": {
        "id": "Aq9Xj-vYBtCm"
      },
      "outputs": [],
      "source": [
        "import copy\n",
        "comments_copy = copy.deepcopy(comments)\n",
        "def remove_space(s):\n",
        "    return s.replace(\"\\n\",\" \")\n",
        "comments_copy['comments'] = comments_copy['comments'].apply(remove_space)\n",
        "\n",
        "comments_copy.to_csv('Cleanfile.csv',encoding='utf-8-sig',index=False)"
      ]
    },
    {
      "cell_type": "markdown",
      "metadata": {
        "id": "pO1dkYhPHpBQ"
      },
      "source": [
        "#### **2.2. Labeling**"
      ]
    },
    {
      "cell_type": "code",
      "execution_count": null,
      "metadata": {
        "id": "nM9bYwXrYBir"
      },
      "outputs": [],
      "source": [
        "data=pd.read_csv('Cleanfile.csv')"
      ]
    },
    {
      "cell_type": "code",
      "execution_count": null,
      "metadata": {
        "id": "JKrhcECNIE-o"
      },
      "outputs": [],
      "source": [
        "!pip install transformers"
      ]
    },
    {
      "cell_type": "code",
      "execution_count": null,
      "metadata": {
        "id": "HgoQNPvgHh-o"
      },
      "outputs": [],
      "source": [
        "from transformers import AutoModelForSequenceClassification, AutoTokenizer, pipeline\n",
        "import torch\n",
        "import pandas as pd\n",
        "import numpy as np\n",
        "model = AutoModelForSequenceClassification.from_pretrained(\"savasy/bert-base-turkish-sentiment-cased\")\n",
        "tokenizer = AutoTokenizer.from_pretrained(\"savasy/bert-base-turkish-sentiment-cased\")\n",
        "sa = pipeline(\"sentiment-analysis\", tokenizer=tokenizer, model=model)\n",
        "input_file='/content/drive/MyDrive/Irem Akalp Proje B Kodları/dataset/CleanReview.csv'"
      ]
    },
    {
      "cell_type": "code",
      "execution_count": null,
      "metadata": {
        "id": "EKekuPZhIHEI"
      },
      "outputs": [],
      "source": [
        "data['sentiments'] = ''\n",
        "for i in range(len(data)):\n",
        "    comment = data['comments'][i]\n",
        "    p=sa(comment)\n",
        "    deger=p[0]['label']\n",
        "    if (deger=='positive'):\n",
        "      etiket=1;   \n",
        "    else:\n",
        "      etiket=0;\n",
        "\n",
        "    data['sentiments'][i]=etiket"
      ]
    },
    {
      "cell_type": "code",
      "execution_count": null,
      "metadata": {
        "id": "7uGLYI_sIOmg"
      },
      "outputs": [],
      "source": [
        "data.to_csv('LableReviews.csv',encoding='utf-8-sig',index=False)"
      ]
    },
    {
      "cell_type": "code",
      "execution_count": null,
      "metadata": {
        "id": "JX2ReCULIUE3"
      },
      "outputs": [],
      "source": [
        "print(data.sentiments.value_counts())"
      ]
    },
    {
      "cell_type": "code",
      "source": [
        "df.sentiments.value_counts().plot(kind='bar',title=\"Sentiment Analysis\",color=\"blue\")"
      ],
      "metadata": {
        "colab": {
          "base_uri": "https://localhost:8080/",
          "height": 295
        },
        "id": "x63IUMr3zg9j",
        "outputId": "fafd8407-d2e3-4495-b091-fdd8736eea7d"
      },
      "execution_count": null,
      "outputs": [
        {
          "output_type": "execute_result",
          "data": {
            "text/plain": [
              "<matplotlib.axes._subplots.AxesSubplot at 0x7fbfef24e990>"
            ]
          },
          "metadata": {},
          "execution_count": 39
        },
        {
          "output_type": "display_data",
          "data": {
            "text/plain": [
              "<Figure size 432x288 with 1 Axes>"
            ],
            "image/png": "[encoded data removed]"
          },
          "metadata": {
            "needs_background": "light"
          }
        }
      ]
    },
    {
      "cell_type": "markdown",
      "metadata": {
        "id": "-WCAOVCkFqUw"
      },
      "source": [
        "### **3. Machine Learning**"
      ]
    },
    {
      "cell_type": "code",
      "source": [
        "df=pd.read_csv('LableReviews.csv',encoding='utf-8-sig')"
      ],
      "metadata": {
        "id": "KDyY8HRZKQDW"
      },
      "execution_count": null,
      "outputs": []
    },
    {
      "cell_type": "code",
      "source": [
        "print(\"Dataset size:\",df.comments.count())"
      ],
      "metadata": {
        "id": "rA8Jk1PmKUg0"
      },
      "execution_count": null,
      "outputs": []
    },
    {
      "cell_type": "markdown",
      "metadata": {
        "id": "bIAeszTiF6lu"
      },
      "source": [
        "#### **3.1. Naive Bayes**"
      ]
    },
    {
      "cell_type": "code",
      "execution_count": null,
      "metadata": {
        "id": "1hn2iOUq_S2K"
      },
      "outputs": [],
      "source": [
        "import pandas as pd\n",
        "import numpy as np\n",
        "from nltk.tokenize import word_tokenize\n",
        "from nltk import pos_tag\n",
        "from nltk.corpus import stopwords\n",
        "from nltk.stem import WordNetLemmatizer\n",
        "from sklearn.preprocessing import LabelEncoder\n",
        "from collections import defaultdict\n",
        "from nltk.corpus import wordnet as wn\n",
        "from sklearn.feature_extraction.text import TfidfVectorizer\n",
        "from sklearn import model_selection, naive_bayes, svm\n",
        "from sklearn.metrics import accuracy_score, precision_score, recall_score,f1_score,cohen_kappa_score"
      ]
    },
    {
      "cell_type": "code",
      "execution_count": null,
      "metadata": {
        "id": "ONoyT27jFuyO"
      },
      "outputs": [],
      "source": [
        "np.random.seed(500) "
      ]
    },
    {
      "cell_type": "code",
      "execution_count": null,
      "metadata": {
        "id": "neVyDKRjJs8M"
      },
      "outputs": [],
      "source": [
        "Corpus =pd.read_csv('LableReviews.csv',encoding='utf-8-sig')\n",
        "#comments--> dataset column name\n",
        "Train_X, Test_X, Train_Y, Test_Y = model_selection.train_test_split(Corpus['comments'],Corpus['sentiments'],test_size=0.3)\n",
        "Encoder = LabelEncoder()\n",
        "Train_Y = Encoder.fit_transform(Train_Y)\n",
        "Test_Y = Encoder.fit_transform(Test_Y)\n",
        "Tfidf_vect = TfidfVectorizer(max_features=5000)\n",
        "Tfidf_vect.fit(Corpus['comments'])\n",
        "Train_X_Tfidf = Tfidf_vect.transform(Train_X)\n",
        "Test_X_Tfidf = Tfidf_vect.transform(Test_X)"
      ]
    },
    {
      "cell_type": "markdown",
      "metadata": {
        "id": "jwxk643ecQ9P"
      },
      "source": [
        "**Naive** **Bayes** **Multinomial**"
      ]
    },
    {
      "cell_type": "code",
      "execution_count": null,
      "metadata": {
        "colab": {
          "base_uri": "https://localhost:8080/"
        },
        "id": "dHn7eEd06N2k",
        "outputId": "3c647256-d172-4849-d23f-45543a036f12"
      },
      "outputs": [
        {
          "output_type": "stream",
          "name": "stdout",
          "text": [
            "Naive Bayes Accuracy Score ->  0.7984751506024096\n",
            "Naive Bayes Precision Score ->  0.7096085409252669\n",
            "Naive Bayes Recall Score ->  0.765353121801433\n",
            "Naive Bayes F1 Score ->  0.7364274282900406\n",
            "Naive Bayes Cohen's Kappa ->  0.5736804927781658\n"
          ]
        }
      ],
      "source": [
        "Naive = naive_bayes.MultinomialNB()\n",
        "Naive.fit(Train_X_Tfidf,Train_Y)\n",
        "predictions_NB = Naive.predict(Test_X_Tfidf)\n",
        "print(\"Naive Bayes Accuracy Score -> \",accuracy_score(predictions_NB, Test_Y))\n",
        "print(\"Naive Bayes Precision Score -> \",precision_score(predictions_NB, Test_Y))\n",
        "print(\"Naive Bayes Recall Score -> \",recall_score(predictions_NB, Test_Y))\n",
        "print(\"Naive Bayes F1 Score -> \",f1_score(predictions_NB, Test_Y))\n",
        "print(\"Naive Bayes Cohen's Kappa -> \",cohen_kappa_score(predictions_NB, Test_Y))"
      ]
    },
    {
      "cell_type": "code",
      "source": [
        "from sklearn.metrics import confusion_matrix\n",
        "cm = confusion_matrix(y_pred=predictions_NB,y_true=Test_Y)\n",
        "print('True Positives: ',cm[1,1])\n",
        "print('False Positives: ',cm[0,1])\n",
        "print('True Negatives: ',cm[0,0])\n",
        "print('False Negatives: ',cm[1,0])"
      ],
      "metadata": {
        "colab": {
          "base_uri": "https://localhost:8080/"
        },
        "id": "nLh4GyDx2FJ4",
        "outputId": "7edceff3-e5b0-4aed-9661-d94ee2c68f39"
      },
      "execution_count": null,
      "outputs": [
        {
          "output_type": "stream",
          "name": "stdout",
          "text": [
            "True Positives:  2991\n",
            "False Positives:  917\n",
            "True Negatives:  5492\n",
            "False Negatives:  1224\n"
          ]
        }
      ]
    },
    {
      "cell_type": "code",
      "source": [
        "group_names = ['True Neg','False Pos','False Neg','True Pos']\n",
        "group_counts = [\"{0:0.0f}\".format(value) for value in\n",
        "cm.flatten()]\n",
        "group_percentages = [\"{0:.2%}\".format(value) for value in\n",
        "cm.flatten()/np.sum(cm)]\n",
        "labels = [f\"{v1}\\n{v2}\\n{v3}\" for v1, v2, v3 in\n",
        "zip(group_names,group_counts,group_percentages)]\n",
        "labels = np.asarray(labels).reshape(2,2)\n",
        "ax = sns.heatmap(cm, annot=labels, fmt='', cmap='Blues')\n",
        "ax.set_title('Confusion Matrix with labels\\n\\n');\n",
        "ax.set_xlabel('\\nPredicted Values')\n",
        "ax.set_ylabel('Actual Values ');\n",
        "## Ticket labels - List must be in alphabetical order\n",
        "ax.xaxis.set_ticklabels(['False','True'])\n",
        "ax.yaxis.set_ticklabels(['False','True'])\n",
        "## Display the visualization of the Confusion Matrix.\n",
        "plt.show()"
      ],
      "metadata": {
        "colab": {
          "base_uri": "https://localhost:8080/",
          "height": 337
        },
        "id": "gXcr9rT85zmD",
        "outputId": "0b077873-cc02-4247-a28c-567cbe04335d"
      },
      "execution_count": null,
      "outputs": [
        {
          "output_type": "display_data",
          "data": {
            "text/plain": [
              "<Figure size 432x288 with 2 Axes>"
            ],
            "image/png": "[encoded data removed]"
          },
          "metadata": {
            "needs_background": "light"
          }
        }
      ]
    },
    {
      "cell_type": "markdown",
      "metadata": {
        "id": "CLK3TyxBcepI"
      },
      "source": [
        "**Naive** **Bayes** **Bernoulli**\n"
      ]
    },
    {
      "cell_type": "code",
      "execution_count": null,
      "metadata": {
        "colab": {
          "base_uri": "https://localhost:8080/"
        },
        "id": "PHgl00_8PyxZ",
        "outputId": "0b0b3009-3e27-40f6-d779-759a0945b880"
      },
      "outputs": [
        {
          "output_type": "stream",
          "name": "stdout",
          "text": [
            "Naive Bayes Accuracy Score ->  0.6760165662650602\n",
            "Naive Bayes Precision Score ->  0.8752075919335706\n",
            "Naive Bayes Recall Score ->  0.5585162755488267\n",
            "Naive Bayes F1 Score ->  0.6818853974121997\n",
            "Naive Bayes Cohen's Kappa ->  0.38304599189526567\n"
          ]
        }
      ],
      "source": [
        "Naive = naive_bayes.BernoulliNB()\n",
        "Naive.fit(Train_X_Tfidf,Train_Y)\n",
        "predictions_NB = Naive.predict(Test_X_Tfidf)\n",
        "print(\"Naive Bayes Accuracy Score -> \",accuracy_score(predictions_NB, Test_Y))\n",
        "print(\"Naive Bayes Precision Score -> \",precision_score(predictions_NB, Test_Y))\n",
        "print(\"Naive Bayes Recall Score -> \",recall_score(predictions_NB, Test_Y))\n",
        "print(\"Naive Bayes F1 Score -> \",f1_score(predictions_NB, Test_Y))\n",
        "print(\"Naive Bayes Cohen's Kappa -> \",cohen_kappa_score(predictions_NB, Test_Y))"
      ]
    },
    {
      "cell_type": "code",
      "execution_count": null,
      "metadata": {
        "colab": {
          "base_uri": "https://localhost:8080/"
        },
        "id": "r1UBiUhSfXJ2",
        "outputId": "26647dbf-141b-4960-af00-c541fb28c606"
      },
      "outputs": [
        {
          "output_type": "stream",
          "name": "stdout",
          "text": [
            "True Positives:  3689\n",
            "False Positives:  2916\n",
            "True Negatives:  3493\n",
            "False Negatives:  526\n"
          ]
        }
      ],
      "source": [
        "from sklearn.metrics import confusion_matrix\n",
        "cm = confusion_matrix(y_pred=predictions_NB,y_true=Test_Y)\n",
        "print('True Positives: ',cm[1,1])\n",
        "print('False Positives: ',cm[0,1])\n",
        "print('True Negatives: ',cm[0,0])\n",
        "print('False Negatives: ',cm[1,0])"
      ]
    },
    {
      "cell_type": "code",
      "source": [
        "group_names = ['True Neg','False Pos','False Neg','True Pos']\n",
        "group_counts = [\"{0:0.0f}\".format(value) for value in\n",
        "cm.flatten()]\n",
        "group_percentages = [\"{0:.2%}\".format(value) for value in\n",
        "cm.flatten()/np.sum(cm)]\n",
        "labels = [f\"{v1}\\n{v2}\\n{v3}\" for v1, v2, v3 in\n",
        "zip(group_names,group_counts,group_percentages)]\n",
        "labels = np.asarray(labels).reshape(2,2)\n",
        "ax = sns.heatmap(cm, annot=labels, fmt='', cmap='Blues')\n",
        "ax.set_title('Confusion Matrix with labels\\n\\n');\n",
        "ax.set_xlabel('\\nPredicted Values')\n",
        "ax.set_ylabel('Actual Values ');\n",
        "## Ticket labels - List must be in alphabetical order\n",
        "ax.xaxis.set_ticklabels(['False','True'])\n",
        "ax.yaxis.set_ticklabels(['False','True'])\n",
        "## Display the visualization of the Confusion Matrix.\n",
        "plt.show()"
      ],
      "metadata": {
        "colab": {
          "base_uri": "https://localhost:8080/",
          "height": 337
        },
        "id": "VzKSvzBn54po",
        "outputId": "70dea93d-f7a4-412b-dc45-1d3f1061d0b6"
      },
      "execution_count": null,
      "outputs": [
        {
          "output_type": "display_data",
          "data": {
            "text/plain": [
              "<Figure size 432x288 with 2 Axes>"
            ],
            "image/png": "[encoded data removed]"
          },
          "metadata": {
            "needs_background": "light"
          }
        }
      ]
    },
    {
      "cell_type": "markdown",
      "metadata": {
        "id": "F95SZddgcjL8"
      },
      "source": [
        "**Naive Bayes GaussianNB**"
      ]
    },
    {
      "cell_type": "code",
      "execution_count": null,
      "metadata": {
        "colab": {
          "base_uri": "https://localhost:8080/"
        },
        "id": "r6Tv1WzCPaif",
        "outputId": "b5d670d1-c3b7-4555-f051-2f09c45fd6cd"
      },
      "outputs": [
        {
          "output_type": "stream",
          "name": "stdout",
          "text": [
            "Naive Bayes Accuracy Score ->  0.6223644578313253\n",
            "Naive Bayes Precision Score ->  0.8813760379596679\n",
            "Naive Bayes Recall Score ->  0.5140445551404456\n",
            "Naive Bayes F1 Score ->  0.6493619996504107\n",
            "Naive Bayes Cohen's Kappa ->  0.2970619958724984\n"
          ]
        }
      ],
      "source": [
        "Naive = naive_bayes.GaussianNB()\n",
        "Naive.fit(Train_X_Tfidf.toarray(),Train_Y)\n",
        "predictions_NB = Naive.predict(Test_X_Tfidf.toarray())\n",
        "print(\"Naive Bayes Accuracy Score -> \",accuracy_score(predictions_NB, Test_Y))\n",
        "print(\"Naive Bayes Precision Score -> \",precision_score(predictions_NB, Test_Y))\n",
        "print(\"Naive Bayes Recall Score -> \",recall_score(predictions_NB, Test_Y))\n",
        "print(\"Naive Bayes F1 Score -> \",f1_score(predictions_NB, Test_Y))\n",
        "print(\"Naive Bayes Cohen's Kappa -> \",cohen_kappa_score(predictions_NB, Test_Y))"
      ]
    },
    {
      "cell_type": "code",
      "execution_count": null,
      "metadata": {
        "colab": {
          "base_uri": "https://localhost:8080/"
        },
        "id": "2MoX_PSsmNqq",
        "outputId": "978a0b63-c8f0-4cfb-a071-98362a4a2caa"
      },
      "outputs": [
        {
          "output_type": "stream",
          "name": "stdout",
          "text": [
            "True Positives:  3715\n",
            "False Positives:  3512\n",
            "True Negatives:  2897\n",
            "False Negatives:  500\n"
          ]
        }
      ],
      "source": [
        "from sklearn.metrics import confusion_matrix\n",
        "cm = confusion_matrix(y_pred=predictions_NB,y_true=Test_Y)\n",
        "print('True Positives: ',cm[1,1])\n",
        "print('False Positives: ',cm[0,1])\n",
        "print('True Negatives: ',cm[0,0])\n",
        "print('False Negatives: ',cm[1,0])"
      ]
    },
    {
      "cell_type": "code",
      "source": [
        "group_names = ['True Neg','False Pos','False Neg','True Pos']\n",
        "group_counts = [\"{0:0.0f}\".format(value) for value in\n",
        "cm.flatten()]\n",
        "group_percentages = [\"{0:.2%}\".format(value) for value in\n",
        "cm.flatten()/np.sum(cm)]\n",
        "labels = [f\"{v1}\\n{v2}\\n{v3}\" for v1, v2, v3 in\n",
        "zip(group_names,group_counts,group_percentages)]\n",
        "labels = np.asarray(labels).reshape(2,2)\n",
        "ax = sns.heatmap(cm, annot=labels, fmt='', cmap='Blues')\n",
        "ax.set_title('Confusion Matrix with labels\\n\\n');\n",
        "ax.set_xlabel('\\nPredicted Values')\n",
        "ax.set_ylabel('Actual Values ');\n",
        "## Ticket labels - List must be in alphabetical order\n",
        "ax.xaxis.set_ticklabels(['False','True'])\n",
        "ax.yaxis.set_ticklabels(['False','True'])\n",
        "## Display the visualization of the Confusion Matrix.\n",
        "plt.show()"
      ],
      "metadata": {
        "colab": {
          "base_uri": "https://localhost:8080/",
          "height": 337
        },
        "id": "ET213A5t57MI",
        "outputId": "654d9c3d-ec02-46ed-90fc-942c3af05ea4"
      },
      "execution_count": null,
      "outputs": [
        {
          "output_type": "display_data",
          "data": {
            "text/plain": [
              "<Figure size 432x288 with 2 Axes>"
            ],
            "image/png": "[encoded data removed]"
          },
          "metadata": {
            "needs_background": "light"
          }
        }
      ]
    },
    {
      "cell_type": "markdown",
      "source": [
        "#### **3.2. SVM**"
      ],
      "metadata": {
        "id": "vNogIGnN2dUN"
      }
    },
    {
      "cell_type": "markdown",
      "metadata": {
        "id": "p9K5GPoxkbjm"
      },
      "source": [
        "**SVM Polynomial**"
      ]
    },
    {
      "cell_type": "code",
      "execution_count": null,
      "metadata": {
        "colab": {
          "base_uri": "https://localhost:8080/"
        },
        "id": "WoZXZGmfgrCv",
        "outputId": "2b6da35b-b3d0-425c-b94a-13e3280e8723"
      },
      "outputs": [
        {
          "output_type": "stream",
          "name": "stdout",
          "text": [
            "SVM Accuracy Score ->  0.8405496987951807\n",
            "SVM  Precision Score ->  0.6635824436536181\n",
            "SVM  Recall Score ->  0.9101854864952815\n",
            "SVM  F1 Score ->  0.767563117453348\n",
            "SVM Cohen's Kappa ->  0.6506940040474107\n"
          ]
        }
      ],
      "source": [
        "SVM = svm.SVC(C=1.0, kernel='poly', degree=3, gamma='scale')\n",
        "SVM.fit(Train_X_Tfidf,Train_Y)\n",
        "predictions_SVM = SVM.predict(Test_X_Tfidf)\n",
        "print(\"SVM Accuracy Score -> \",accuracy_score(predictions_SVM, Test_Y))\n",
        "print(\"SVM  Precision Score -> \",precision_score(predictions_SVM, Test_Y))\n",
        "print(\"SVM  Recall Score -> \",recall_score(predictions_SVM, Test_Y))\n",
        "print(\"SVM  F1 Score -> \",f1_score(predictions_SVM, Test_Y))\n",
        "print(\"SVM Cohen's Kappa -> \",cohen_kappa_score(predictions_SVM, Test_Y))"
      ]
    },
    {
      "cell_type": "code",
      "execution_count": null,
      "metadata": {
        "colab": {
          "base_uri": "https://localhost:8080/"
        },
        "id": "wqlNwNeWmZxA",
        "outputId": "4d54659e-e376-4c28-e772-94d95822b845"
      },
      "outputs": [
        {
          "output_type": "stream",
          "name": "stdout",
          "text": [
            "True Positives:  2797\n",
            "False Positives:  276\n",
            "True Negatives:  6133\n",
            "False Negatives:  1418\n"
          ]
        }
      ],
      "source": [
        "from sklearn.metrics import confusion_matrix\n",
        "cm = confusion_matrix(y_pred=predictions_SVM,y_true=Test_Y)\n",
        "print('True Positives: ',cm[1,1])\n",
        "print('False Positives: ',cm[0,1])\n",
        "print('True Negatives: ',cm[0,0])\n",
        "print('False Negatives: ',cm[1,0])"
      ]
    },
    {
      "cell_type": "code",
      "source": [
        "group_names = ['True Neg','False Pos','False Neg','True Pos']\n",
        "group_counts = [\"{0:0.0f}\".format(value) for value in\n",
        "cm.flatten()]\n",
        "group_percentages = [\"{0:.2%}\".format(value) for value in\n",
        "cm.flatten()/np.sum(cm)]\n",
        "labels = [f\"{v1}\\n{v2}\\n{v3}\" for v1, v2, v3 in\n",
        "zip(group_names,group_counts,group_percentages)]\n",
        "labels = np.asarray(labels).reshape(2,2)\n",
        "ax = sns.heatmap(cm, annot=labels, fmt='', cmap='Blues')\n",
        "ax.set_title('Confusion Matrix with labels\\n\\n');\n",
        "ax.set_xlabel('\\nPredicted Values')\n",
        "ax.set_ylabel('Actual Values ');\n",
        "## Ticket labels - List must be in alphabetical order\n",
        "ax.xaxis.set_ticklabels(['False','True'])\n",
        "ax.yaxis.set_ticklabels(['False','True'])\n",
        "## Display the visualization of the Confusion Matrix.\n",
        "plt.show()"
      ],
      "metadata": {
        "colab": {
          "base_uri": "https://localhost:8080/",
          "height": 337
        },
        "id": "zjRqkCDX4z27",
        "outputId": "0dd22822-9c73-4a08-ba5e-8247796d5a41"
      },
      "execution_count": null,
      "outputs": [
        {
          "output_type": "display_data",
          "data": {
            "text/plain": [
              "<Figure size 432x288 with 2 Axes>"
            ],
            "image/png": "[encoded data removed]"
          },
          "metadata": {
            "needs_background": "light"
          }
        }
      ]
    },
    {
      "cell_type": "markdown",
      "metadata": {
        "id": "lJwQKtDLtBZ5"
      },
      "source": [
        "**SVM RBF**"
      ]
    },
    {
      "cell_type": "code",
      "execution_count": null,
      "metadata": {
        "colab": {
          "base_uri": "https://localhost:8080/"
        },
        "id": "l2cIaIpml4cw",
        "outputId": "51e28a16-ad53-4d6f-a0e5-ad0126639ee7"
      },
      "outputs": [
        {
          "output_type": "stream",
          "name": "stdout",
          "text": [
            "SVM Accuracy Score ->  0.8724585843373494\n",
            "SVM  Precision Score ->  0.8030842230130486\n",
            "SVM  Recall Score ->  0.8657289002557544\n",
            "SVM  F1 Score ->  0.8332307692307692\n",
            "SVM Cohen's Kappa ->  0.7302123177663624\n"
          ]
        }
      ],
      "source": [
        "# Classifier - Algorithm - SVM\n",
        "SVM = svm.SVC(C=1.0, kernel='rbf', degree=3, gamma='scale')\n",
        "SVM.fit(Train_X_Tfidf,Train_Y)\n",
        "predictions_SVM = SVM.predict(Test_X_Tfidf)\n",
        "print(\"SVM Accuracy Score -> \",accuracy_score(predictions_SVM, Test_Y))\n",
        "print(\"SVM  Precision Score -> \",precision_score(predictions_SVM, Test_Y))\n",
        "print(\"SVM  Recall Score -> \",recall_score(predictions_SVM, Test_Y))\n",
        "print(\"SVM  F1 Score -> \",f1_score(predictions_SVM, Test_Y))\n",
        "print(\"SVM Cohen's Kappa -> \",cohen_kappa_score(predictions_SVM, Test_Y))"
      ]
    },
    {
      "cell_type": "code",
      "execution_count": null,
      "metadata": {
        "colab": {
          "base_uri": "https://localhost:8080/"
        },
        "id": "jXSK9ngzqW9h",
        "outputId": "97e1d33f-1f99-44c9-abc7-9fa22d6490ee"
      },
      "outputs": [
        {
          "output_type": "stream",
          "name": "stdout",
          "text": [
            "True Positives:  3385\n",
            "False Positives:  525\n",
            "True Negatives:  5884\n",
            "False Negatives:  830\n"
          ]
        }
      ],
      "source": [
        "from sklearn.metrics import confusion_matrix\n",
        "cm = confusion_matrix(y_pred=predictions_SVM,y_true=Test_Y)\n",
        "print('True Positives: ',cm[1,1])\n",
        "print('False Positives: ',cm[0,1])\n",
        "print('True Negatives: ',cm[0,0])\n",
        "print('False Negatives: ',cm[1,0])"
      ]
    },
    {
      "cell_type": "code",
      "source": [
        "group_names = ['True Neg','False Pos','False Neg','True Pos']\n",
        "group_counts = [\"{0:0.0f}\".format(value) for value in\n",
        "cm.flatten()]\n",
        "group_percentages = [\"{0:.2%}\".format(value) for value in\n",
        "cm.flatten()/np.sum(cm)]\n",
        "labels = [f\"{v1}\\n{v2}\\n{v3}\" for v1, v2, v3 in\n",
        "zip(group_names,group_counts,group_percentages)]\n",
        "labels = np.asarray(labels).reshape(2,2)\n",
        "ax = sns.heatmap(cm, annot=labels, fmt='', cmap='Blues')\n",
        "ax.set_title('Confusion Matrix with labels\\n\\n');\n",
        "ax.set_xlabel('\\nPredicted Values')\n",
        "ax.set_ylabel('Actual Values ');\n",
        "## Ticket labels - List must be in alphabetical order\n",
        "ax.xaxis.set_ticklabels(['False','True'])\n",
        "ax.yaxis.set_ticklabels(['False','True'])\n",
        "## Display the visualization of the Confusion Matrix.\n",
        "plt.show()"
      ],
      "metadata": {
        "colab": {
          "base_uri": "https://localhost:8080/",
          "height": 337
        },
        "id": "3A_rkfES6IJm",
        "outputId": "a747a3f7-cce8-46fc-bc9b-98f6caf14fa6"
      },
      "execution_count": null,
      "outputs": [
        {
          "output_type": "display_data",
          "data": {
            "text/plain": [
              "<Figure size 432x288 with 2 Axes>"
            ],
            "image/png": "[encoded data removed]"
          },
          "metadata": {
            "needs_background": "light"
          }
        }
      ]
    },
    {
      "cell_type": "markdown",
      "metadata": {
        "id": "uKITTid2tDXs"
      },
      "source": [
        "**SVM Sigmoid**"
      ]
    },
    {
      "cell_type": "code",
      "execution_count": null,
      "metadata": {
        "colab": {
          "base_uri": "https://localhost:8080/"
        },
        "id": "Szagvu_toEcM",
        "outputId": "2a32c5e7-c90a-44e4-ac82-89c15042c41c"
      },
      "outputs": [
        {
          "output_type": "stream",
          "name": "stdout",
          "text": [
            "SVM Accuracy Score ->  0.6942771084337349\n",
            "SVM  Precision Score ->  0.6308422301304863\n",
            "SVM  Recall Score ->  0.6111238795679155\n",
            "SVM  F1 Score ->  0.6208265234648611\n",
            "SVM Cohen's Kappa ->  0.3648236449360194\n"
          ]
        }
      ],
      "source": [
        "# Classifier - Algorithm - SVM\n",
        "SVM = svm.SVC(C=1.0, kernel='sigmoid', degree=3, gamma='scale')\n",
        "SVM.fit(Train_X_Tfidf,Train_Y)\n",
        "predictions_SVM = SVM.predict(Test_X_Tfidf)\n",
        "print(\"SVM Accuracy Score -> \",accuracy_score(predictions_SVM, Test_Y))\n",
        "print(\"SVM  Precision Score -> \",precision_score(predictions_SVM, Test_Y))\n",
        "print(\"SVM  Recall Score -> \",recall_score(predictions_SVM, Test_Y))\n",
        "print(\"SVM  F1 Score -> \",f1_score(predictions_SVM, Test_Y))\n",
        "print(\"SVM Cohen's Kappa -> \",cohen_kappa_score(predictions_SVM, Test_Y))"
      ]
    },
    {
      "cell_type": "code",
      "execution_count": null,
      "metadata": {
        "colab": {
          "base_uri": "https://localhost:8080/"
        },
        "id": "anEJFBTCqZmr",
        "outputId": "eb03bdf8-aee7-4db6-e252-e9ddf3adb270"
      },
      "outputs": [
        {
          "output_type": "stream",
          "name": "stdout",
          "text": [
            "True Positives:  2659\n",
            "False Positives:  1692\n",
            "True Negatives:  4717\n",
            "False Negatives:  1556\n"
          ]
        }
      ],
      "source": [
        "from sklearn.metrics import confusion_matrix\n",
        "cm = confusion_matrix(y_pred=predictions_SVM,y_true=Test_Y)\n",
        "print('True Positives: ',cm[1,1])\n",
        "print('False Positives: ',cm[0,1])\n",
        "print('True Negatives: ',cm[0,0])\n",
        "print('False Negatives: ',cm[1,0])"
      ]
    },
    {
      "cell_type": "code",
      "source": [
        "group_names = ['True Neg','False Pos','False Neg','True Pos']\n",
        "group_counts = [\"{0:0.0f}\".format(value) for value in\n",
        "cm.flatten()]\n",
        "group_percentages = [\"{0:.2%}\".format(value) for value in\n",
        "cm.flatten()/np.sum(cm)]\n",
        "labels = [f\"{v1}\\n{v2}\\n{v3}\" for v1, v2, v3 in\n",
        "zip(group_names,group_counts,group_percentages)]\n",
        "labels = np.asarray(labels).reshape(2,2)\n",
        "ax = sns.heatmap(cm, annot=labels, fmt='', cmap='Blues')\n",
        "ax.set_title('Confusion Matrix with labels\\n\\n');\n",
        "ax.set_xlabel('\\nPredicted Values')\n",
        "ax.set_ylabel('Actual Values ');\n",
        "## Ticket labels - List must be in alphabetical order\n",
        "ax.xaxis.set_ticklabels(['False','True'])\n",
        "ax.yaxis.set_ticklabels(['False','True'])\n",
        "## Display the visualization of the Confusion Matrix.\n",
        "plt.show()"
      ],
      "metadata": {
        "colab": {
          "base_uri": "https://localhost:8080/",
          "height": 337
        },
        "id": "NljJILvw6JW4",
        "outputId": "906dd8b4-f7ef-471c-9076-e81bb268b901"
      },
      "execution_count": null,
      "outputs": [
        {
          "output_type": "display_data",
          "data": {
            "text/plain": [
              "<Figure size 432x288 with 2 Axes>"
            ],
            "image/png": "[encoded data removed]"
          },
          "metadata": {
            "needs_background": "light"
          }
        }
      ]
    },
    {
      "cell_type": "markdown",
      "metadata": {
        "id": "BZp9281HqaW_"
      },
      "source": [
        "**SVM Linear**"
      ]
    },
    {
      "cell_type": "code",
      "execution_count": null,
      "metadata": {
        "colab": {
          "base_uri": "https://localhost:8080/"
        },
        "id": "OrVLGA2ykkFS",
        "outputId": "85a9345d-6984-4753-eb1c-a13b93d0d686"
      },
      "outputs": [
        {
          "output_type": "stream",
          "name": "stdout",
          "text": [
            "SVM Accuracy Score ->  0.8278426204819277\n",
            "SVM  Precision Score ->  0.7784104389086596\n",
            "SVM  Recall Score ->  0.7856800766283525\n",
            "SVM  F1 Score ->  0.7820283637230366\n",
            "SVM Cohen's Kappa ->  0.6397763061807669\n"
          ]
        }
      ],
      "source": [
        "# Classifier - Algorithm - SVM\n",
        "SVM = svm.SVC(C=1.0, kernel='linear', degree=3, gamma='auto')\n",
        "SVM.fit(Train_X_Tfidf,Train_Y)\n",
        "predictions_SVM = SVM.predict(Test_X_Tfidf)\n",
        "print(\"SVM Accuracy Score -> \",accuracy_score(predictions_SVM, Test_Y))\n",
        "print(\"SVM  Precision Score -> \",precision_score(predictions_SVM, Test_Y))\n",
        "print(\"SVM  Recall Score -> \",recall_score(predictions_SVM, Test_Y))\n",
        "print(\"SVM  F1 Score -> \",f1_score(predictions_SVM, Test_Y))\n",
        "print(\"SVM Cohen's Kappa -> \",cohen_kappa_score(predictions_SVM, Test_Y))"
      ]
    },
    {
      "cell_type": "code",
      "execution_count": null,
      "metadata": {
        "colab": {
          "base_uri": "https://localhost:8080/"
        },
        "id": "OQbY4YXzrGrn",
        "outputId": "3e180479-4235-4963-e4f7-3b936b7ebfb8"
      },
      "outputs": [
        {
          "output_type": "stream",
          "name": "stdout",
          "text": [
            "True Positives:  3281\n",
            "False Positives:  895\n",
            "True Negatives:  5514\n",
            "False Negatives:  934\n"
          ]
        }
      ],
      "source": [
        "from sklearn.metrics import confusion_matrix\n",
        "cm = confusion_matrix(y_pred=predictions_SVM,y_true=Test_Y)\n",
        "print('True Positives: ',cm[1,1])\n",
        "print('False Positives: ',cm[0,1])\n",
        "print('True Negatives: ',cm[0,0])\n",
        "print('False Negatives: ',cm[1,0])"
      ]
    },
    {
      "cell_type": "code",
      "source": [
        "group_names = ['True Neg','False Pos','False Neg','True Pos']\n",
        "group_counts = [\"{0:0.0f}\".format(value) for value in\n",
        "cm.flatten()]\n",
        "group_percentages = [\"{0:.2%}\".format(value) for value in\n",
        "cm.flatten()/np.sum(cm)]\n",
        "labels = [f\"{v1}\\n{v2}\\n{v3}\" for v1, v2, v3 in\n",
        "zip(group_names,group_counts,group_percentages)]\n",
        "labels = np.asarray(labels).reshape(2,2)\n",
        "ax = sns.heatmap(cm, annot=labels, fmt='', cmap='Blues')\n",
        "ax.set_title('Confusion Matrix with labels\\n\\n');\n",
        "ax.set_xlabel('\\nPredicted Values')\n",
        "ax.set_ylabel('Actual Values ');\n",
        "## Ticket labels - List must be in alphabetical order\n",
        "ax.xaxis.set_ticklabels(['False','True'])\n",
        "ax.yaxis.set_ticklabels(['False','True'])\n",
        "## Display the visualization of the Confusion Matrix.\n",
        "plt.show()"
      ],
      "metadata": {
        "colab": {
          "base_uri": "https://localhost:8080/",
          "height": 337
        },
        "id": "_-vNC9UM1qKE",
        "outputId": "a7057d4c-2af6-4536-dbe5-67e6d39bc078"
      },
      "execution_count": null,
      "outputs": [
        {
          "output_type": "display_data",
          "data": {
            "text/plain": [
              "<Figure size 432x288 with 2 Axes>"
            ],
            "image/png": "[encoded data removed]"
          },
          "metadata": {
            "needs_background": "light"
          }
        }
      ]
    },
    {
      "cell_type": "markdown",
      "metadata": {
        "id": "z2k2FqrwHGaO"
      },
      "source": [
        "#### **3.3. RNN**"
      ]
    },
    {
      "cell_type": "markdown",
      "metadata": {
        "id": "o50XanJSLg8l"
      },
      "source": [
        "referans https://github.com/aaryaab/Text-Classification-with-RNN/blob/main/rnn_with_imdb.py"
      ]
    },
    {
      "cell_type": "code",
      "execution_count": null,
      "metadata": {
        "id": "FrZE7VVrq7ZI"
      },
      "outputs": [],
      "source": [
        "import numpy as np\n",
        "import pandas as pd\n",
        "import tensorflow as tf\n",
        "import matplotlib.pyplot as plt\n",
        "import seaborn as sns\n",
        "from sklearn.model_selection import train_test_split\n",
        "from sklearn.preprocessing import LabelEncoder\n",
        "from keras.models import Model\n",
        "from keras.layers import LSTM,  Dense, Input, Embedding\n",
        "from tensorflow.keras.optimizers import RMSprop\n",
        "from keras.preprocessing.text import Tokenizer\n",
        "from keras.preprocessing import sequence\n",
        "from tensorflow.keras.utils import to_categorical\n",
        "from keras.callbacks import EarlyStopping\n",
        "%matplotlib inline"
      ]
    },
    {
      "cell_type": "code",
      "execution_count": null,
      "metadata": {
        "id": "SsUlQHdgr4-5"
      },
      "outputs": [],
      "source": [
        "df = pd.read_csv('LableReviews.csv',encoding='utf-8-sig')"
      ]
    },
    {
      "cell_type": "code",
      "execution_count": null,
      "metadata": {
        "id": "RDSJ9WnQsgGw"
      },
      "outputs": [],
      "source": [
        "X = df.comments\n",
        "Y = df.sentiments\n",
        "le = LabelEncoder()\n",
        "Y = le.fit_transform(Y)\n",
        "Y = Y.reshape(-1,1)\n",
        "x_train,x_test, y_train, y_test = train_test_split(X,Y,test_size=0.30)"
      ]
    },
    {
      "cell_type": "code",
      "execution_count": null,
      "metadata": {
        "id": "uJbFWj-fq-nH"
      },
      "outputs": [],
      "source": [
        "words=20000\n",
        "max_length=100\n",
        "tok = Tokenizer(num_words=words)\n",
        "tok.fit_on_texts(x_train)\n",
        "sequences  = tok.texts_to_sequences(x_train)\n",
        "sequences_matrix  = sequence.pad_sequences(sequences,maxlen=max_length)\n",
        "word_size=words\n",
        "embed_size=128"
      ]
    },
    {
      "cell_type": "code",
      "execution_count": null,
      "metadata": {
        "colab": {
          "base_uri": "https://localhost:8080/"
        },
        "id": "PUyvVn20ut5P",
        "outputId": "38740f9d-e1bc-480f-c5f4-31bc94e807f3"
      },
      "outputs": [
        {
          "output_type": "stream",
          "name": "stdout",
          "text": [
            "Model: \"sequential_2\"\n",
            "_________________________________________________________________\n",
            " Layer (type)                Output Shape              Param #   \n",
            "=================================================================\n",
            " embedding_2 (Embedding)     (None, 100, 128)          2560000   \n",
            "                                                                 \n",
            " lstm_2 (LSTM)               (None, 128)               131584    \n",
            "                                                                 \n",
            " dense_2 (Dense)             (None, 1)                 129       \n",
            "                                                                 \n",
            "=================================================================\n",
            "Total params: 2,691,713\n",
            "Trainable params: 2,691,713\n",
            "Non-trainable params: 0\n",
            "_________________________________________________________________\n"
          ]
        }
      ],
      "source": [
        "model=tf.keras.Sequential()\n",
        "# Embedding Layer\n",
        "model.add(tf.keras.layers.Embedding(word_size, embed_size,input_length=max_length))\n",
        "# LSTM Layer\n",
        "model.add(tf.keras.layers.LSTM(units=128, activation='tanh'))\n",
        "# Output Layer\n",
        "model.add(tf.keras.layers.Dense(units=1, activation='sigmoid'))\n",
        "model.summary()"
      ]
    },
    {
      "cell_type": "code",
      "execution_count": null,
      "metadata": {
        "id": "x-IgMUaVwupm"
      },
      "outputs": [],
      "source": [
        "model.compile(optimizer='rmsprop', loss='binary_crossentropy', metrics=['accuracy'])"
      ]
    },
    {
      "cell_type": "code",
      "execution_count": null,
      "metadata": {
        "colab": {
          "base_uri": "https://localhost:8080/"
        },
        "id": "_zA1p6BtwzNl",
        "outputId": "2d8495da-d66f-4420-9b1d-f3a230fbc32b"
      },
      "outputs": [
        {
          "output_type": "stream",
          "name": "stdout",
          "text": [
            "Epoch 1/10\n",
            "388/388 [==============================] - 135s 341ms/step - loss: 0.4482 - accuracy: 0.8039 - val_loss: 0.5136 - val_accuracy: 0.7935\n",
            "Epoch 2/10\n",
            "388/388 [==============================] - 117s 302ms/step - loss: 0.3176 - accuracy: 0.8624 - val_loss: 0.3798 - val_accuracy: 0.8427\n",
            "Epoch 3/10\n",
            "388/388 [==============================] - 126s 324ms/step - loss: 0.2771 - accuracy: 0.8818 - val_loss: 0.3424 - val_accuracy: 0.8542\n",
            "Epoch 4/10\n",
            "388/388 [==============================] - 123s 316ms/step - loss: 0.2439 - accuracy: 0.8998 - val_loss: 0.3352 - val_accuracy: 0.8658\n",
            "Epoch 5/10\n",
            "388/388 [==============================] - 119s 307ms/step - loss: 0.2158 - accuracy: 0.9128 - val_loss: 0.3312 - val_accuracy: 0.8575\n",
            "Epoch 6/10\n",
            "388/388 [==============================] - 125s 322ms/step - loss: 0.1911 - accuracy: 0.9246 - val_loss: 0.3478 - val_accuracy: 0.8678\n",
            "Epoch 7/10\n",
            "388/388 [==============================] - 124s 320ms/step - loss: 0.1727 - accuracy: 0.9334 - val_loss: 0.3404 - val_accuracy: 0.8643\n",
            "Epoch 8/10\n",
            "388/388 [==============================] - 120s 310ms/step - loss: 0.1536 - accuracy: 0.9396 - val_loss: 0.3516 - val_accuracy: 0.8677\n",
            "Epoch 9/10\n",
            "388/388 [==============================] - 119s 307ms/step - loss: 0.1391 - accuracy: 0.9462 - val_loss: 0.3671 - val_accuracy: 0.8637\n",
            "Epoch 10/10\n",
            "388/388 [==============================] - 119s 308ms/step - loss: 0.1258 - accuracy: 0.9516 - val_loss: 0.4025 - val_accuracy: 0.8631\n",
            "166/166 - 13s - loss: 0.4025 - accuracy: 0.8631 - 13s/epoch - 79ms/step\n",
            "Test accuracy: 0.8631400465965271\n"
          ]
        }
      ],
      "source": [
        "test_sequences = tok.texts_to_sequences(x_test)\n",
        "test_sequences_matrix = sequence.pad_sequences(test_sequences,maxlen=max_length)\n",
        "t = model.fit(sequences_matrix, y_train, epochs = 10, batch_size=64,validation_data=(test_sequences_matrix,y_test))\n",
        "test_loss, test_acc = model.evaluate(test_sequences_matrix, y_test,verbose=2,batch_size=64)\n",
        "print(\"Test accuracy: {}\".format(test_acc))"
      ]
    },
    {
      "cell_type": "code",
      "execution_count": null,
      "metadata": {
        "colab": {
          "base_uri": "https://localhost:8080/",
          "height": 295
        },
        "id": "xwb6fv7rkGQ4",
        "outputId": "33b03f6c-7d81-43c7-b042-3c4d755e548a"
      },
      "outputs": [
        {
          "output_type": "display_data",
          "data": {
            "text/plain": [
              "<Figure size 432x288 with 1 Axes>"
            ],
            "image/png": "[encoded data removed]"
          },
          "metadata": {
            "needs_background": "light"
          }
        }
      ],
      "source": [
        "from matplotlib import pyplot as plt\n",
        "plt.plot(t.history['accuracy'])\n",
        "plt.plot(t.history['val_accuracy'])\n",
        "plt.title('model accuracy')\n",
        "plt.ylabel('accuracy')\n",
        "plt.xlabel('epoch')\n",
        "plt.legend(['train', 'val'], loc='upper left')\n",
        "plt.show()\n"
      ]
    },
    {
      "cell_type": "markdown",
      "metadata": {
        "id": "pbYbVTkPem09"
      },
      "source": [
        "referans: https://www.kaggle.com/egebasturk1/yemeksepeti-sentiment-analysis/data?select=lm.2gram.slm"
      ]
    },
    {
      "cell_type": "code",
      "execution_count": null,
      "metadata": {
        "colab": {
          "base_uri": "https://localhost:8080/"
        },
        "id": "kPH0gV8JKqlh",
        "outputId": "0249ffd5-44e1-470a-df9f-68165384baa6"
      },
      "outputs": [
        {
          "output_type": "stream",
          "name": "stdout",
          "text": [
            "83/83 - 20s - 20s/epoch - 237ms/step\n",
            "True Positives:  3540\n",
            "False Positives:  679\n",
            "True Negatives:  5630\n",
            "False Negatives:  775\n"
          ]
        }
      ],
      "source": [
        "#confusion matrix\n",
        "y_pred=model.predict(test_sequences_matrix,  batch_size=128, verbose=2, steps=None)\n",
        "y_pred=y_pred>0.5\n",
        "from sklearn.metrics import accuracy_score, precision_score, recall_score,f1_score,cohen_kappa_score\n",
        "from sklearn.metrics import confusion_matrix\n",
        "cm = confusion_matrix(y_pred=y_pred,y_true=y_test)\n",
        "print('True Positives: ',cm[1,1])\n",
        "print('False Positives: ',cm[0,1])\n",
        "print('True Negatives: ',cm[0,0])\n",
        "print('False Negatives: ',cm[1,0])\n"
      ]
    },
    {
      "cell_type": "code",
      "execution_count": null,
      "metadata": {
        "id": "qtNDAi-dF5Zs",
        "colab": {
          "base_uri": "https://localhost:8080/",
          "height": 337
        },
        "outputId": "a8d7f70e-676b-4b22-fce8-fe83c789bd6a"
      },
      "outputs": [
        {
          "output_type": "display_data",
          "data": {
            "text/plain": [
              "<Figure size 432x288 with 2 Axes>"
            ],
            "image/png": "[encoded data removed]"
          },
          "metadata": {
            "needs_background": "light"
          }
        }
      ],
      "source": [
        "group_names = ['True Neg','False Pos','False Neg','True Pos']\n",
        "group_counts = [\"{0:0.0f}\".format(value) for value in\n",
        "cm.flatten()]\n",
        "group_percentages = [\"{0:.2%}\".format(value) for value in\n",
        "cm.flatten()/np.sum(cm)]\n",
        "labels = [f\"{v1}\\n{v2}\\n{v3}\" for v1, v2, v3 in\n",
        "zip(group_names,group_counts,group_percentages)]\n",
        "labels = np.asarray(labels).reshape(2,2)\n",
        "ax = sns.heatmap(cm, annot=labels, fmt='', cmap='Blues')\n",
        "ax.set_title('Confusion Matrix with labels\\n\\n');\n",
        "ax.set_xlabel('\\nPredicted Values')\n",
        "ax.set_ylabel('Actual Values ');\n",
        "## Ticket labels - List must be in alphabetical order\n",
        "ax.xaxis.set_ticklabels(['False','True'])\n",
        "ax.yaxis.set_ticklabels(['False','True'])\n",
        "## Display the visualization of the Confusion Matrix.\n",
        "plt.show()"
      ]
    },
    {
      "cell_type": "code",
      "source": [
        "print(\"RNN Accuracy Score -> \",accuracy_score(y_test,y_pred))\n",
        "print(\"RNN Precision Score -> \",precision_score(y_test,y_pred))\n",
        "print(\"RNN Recall Score -> \",recall_score(y_test,y_pred))\n",
        "print(\"RNN F1 Score -> \",f1_score(y_test,y_pred))\n",
        "print(\"RNN Cohen's Kappa -> \",cohen_kappa_score(y_test,y_pred))"
      ],
      "metadata": {
        "id": "l17whBe8JTp4",
        "colab": {
          "base_uri": "https://localhost:8080/"
        },
        "outputId": "56e59e86-d327-4b71-a2da-c54718f0149f"
      },
      "execution_count": null,
      "outputs": [
        {
          "output_type": "stream",
          "name": "stdout",
          "text": [
            "RNN Accuracy Score ->  0.8631400602409639\n",
            "RNN Precision Score ->  0.8390613889547286\n",
            "RNN Recall Score ->  0.8203939745075318\n",
            "RNN F1 Score ->  0.8296226857276775\n",
            "RNN Cohen's Kappa ->  0.715284748685869\n"
          ]
        }
      ]
    },
    {
      "cell_type": "markdown",
      "source": [
        "#### **3.4. MLP**"
      ],
      "metadata": {
        "id": "Yjsk0u9YaQxw"
      }
    },
    {
      "cell_type": "code",
      "metadata": {
        "id": "fbFV_VxjT352"
      },
      "source": [
        "import numpy as np\n",
        "import pandas as pd\n",
        "import os\n",
        "from sklearn.feature_extraction.text import CountVectorizer\n",
        "from sklearn.model_selection import train_test_split\n",
        "from sklearn.metrics import accuracy_score, precision_score, recall_score,f1_score,cohen_kappa_score\n",
        "from sklearn.decomposition import PCA\n",
        "from sklearn.neural_network import MLPClassifier"
      ],
      "execution_count": null,
      "outputs": []
    },
    {
      "cell_type": "code",
      "metadata": {
        "id": "y2QwCL-Nc0uB"
      },
      "source": [
        "df=pd.read_csv('LableReviews.csv',encoding='utf-8-sig')\n",
        "df = df[['comments', 'sentiments']]\n",
        "df.columns = ['comments', 'sentiments']"
      ],
      "execution_count": null,
      "outputs": []
    },
    {
      "cell_type": "code",
      "metadata": {
        "id": "34Z17zbUVhCD"
      },
      "source": [
        "countvec = CountVectorizer(ngram_range=(1,4),strip_accents='unicode', max_features=2000)\n",
        "X = df.comments.values\n",
        "y = df.sentiments.values\n",
        "X_train, X_test, y_train, y_test = train_test_split(X, y,  test_size = 0.3,   random_state = 0)\n",
        "X_train = countvec.fit_transform(X_train.astype(\"str\"))\n",
        "X_test = countvec.transform(X_test.astype(\"str\"))"
      ],
      "execution_count": null,
      "outputs": []
    },
    {
      "cell_type": "code",
      "metadata": {
        "id": "MjDwLU61VirX"
      },
      "source": [
        "mlp = MLPClassifier(hidden_layer_sizes=(400,400,100),activation = 'relu', verbose=False)\n",
        "mlp.fit(X_train, y_train)\n",
        "predictions_mlp = mlp.predict(X_test)"
      ],
      "execution_count": null,
      "outputs": []
    },
    {
      "cell_type": "code",
      "metadata": {
        "colab": {
          "base_uri": "https://localhost:8080/"
        },
        "id": "5KFs18gphUex",
        "outputId": "4f9447be-9519-4bff-b9fc-8a600c843d57"
      },
      "source": [
        "print(\"MLP Accuracy Score -> \",accuracy_score(predictions_mlp, y_test))\n",
        "print(\"MLP Precision Score -> \",precision_score(predictions_mlp, y_test))\n",
        "print(\"MLP Recall Score -> \",recall_score(predictions_mlp, y_test))\n",
        "print(\"MLP F1 Score -> \",f1_score(predictions_mlp, y_test))\n",
        "print(\"MLP Cohen's Kappa -> \",cohen_kappa_score(predictions_mlp,y_test))"
      ],
      "execution_count": null,
      "outputs": [
        {
          "output_type": "stream",
          "name": "stdout",
          "text": [
            "MLP Accuracy Score ->  0.8607868975903614\n",
            "MLP Precision Score ->  0.8229287537711766\n",
            "MLP Recall Score ->  0.8320037541060535\n",
            "MLP F1 Score ->  0.8274413720686035\n",
            "MLP Cohen's Kappa ->  0.7107792706825757\n"
          ]
        }
      ]
    },
    {
      "cell_type": "code",
      "metadata": {
        "colab": {
          "base_uri": "https://localhost:8080/"
        },
        "id": "GZtwdXrcrKDn",
        "outputId": "f24d9cac-d608-4b56-b7fe-81b7119139b9"
      },
      "source": [
        "from sklearn.metrics import confusion_matrix\n",
        "cm = confusion_matrix(y_pred=predictions_mlp,y_true=y_test)\n",
        "print('True Positives: ',cm[1,1])\n",
        "print('False Positives: ',cm[0,1])\n",
        "print('True Negatives: ',cm[0,0])\n",
        "print('False Negatives: ',cm[1,0])"
      ],
      "execution_count": null,
      "outputs": [
        {
          "output_type": "stream",
          "name": "stdout",
          "text": [
            "True Positives:  3546\n",
            "False Positives:  716\n",
            "True Negatives:  5599\n",
            "False Negatives:  763\n"
          ]
        }
      ]
    },
    {
      "cell_type": "code",
      "source": [
        "group_names = ['True Neg','False Pos','False Neg','True Pos']\n",
        "group_counts = [\"{0:0.0f}\".format(value) for value in\n",
        "cm.flatten()]\n",
        "group_percentages = [\"{0:.2%}\".format(value) for value in\n",
        "cm.flatten()/np.sum(cm)]\n",
        "labels = [f\"{v1}\\n{v2}\\n{v3}\" for v1, v2, v3 in\n",
        "zip(group_names,group_counts,group_percentages)]\n",
        "labels = np.asarray(labels).reshape(2,2)\n",
        "ax = sns.heatmap(cm, annot=labels, fmt='', cmap='Blues')\n",
        "ax.set_title('Confusion Matrix with labels\\n\\n');\n",
        "ax.set_xlabel('\\nPredicted Values')\n",
        "ax.set_ylabel('Actual Values ');\n",
        "## Ticket labels - List must be in alphabetical order\n",
        "ax.xaxis.set_ticklabels(['False','True'])\n",
        "ax.yaxis.set_ticklabels(['False','True'])\n",
        "## Display the visualization of the Confusion Matrix.\n",
        "plt.show()"
      ],
      "metadata": {
        "colab": {
          "base_uri": "https://localhost:8080/",
          "height": 337
        },
        "id": "4IIoHJ21dKVB",
        "outputId": "5f12b588-aee9-46a9-a23e-0157a39d3b7f"
      },
      "execution_count": null,
      "outputs": [
        {
          "output_type": "display_data",
          "data": {
            "text/plain": [
              "<Figure size 432x288 with 2 Axes>"
            ],
            "image/png": "[encoded data removed]"
          },
          "metadata": {
            "needs_background": "light"
          }
        }
      ]
    }
  ],
  "metadata": {
    "colab": {
      "collapsed_sections": [
        "mBAPyhAM2Kcg",
        "wLa57cSyHvyJ",
        "nT4NUpDQH2FJ",
        "pO1dkYhPHpBQ",
        "-WCAOVCkFqUw",
        "bIAeszTiF6lu",
        "vNogIGnN2dUN",
        "z2k2FqrwHGaO",
        "Yjsk0u9YaQxw"
      ],
      "name": "HepsiburadaScraper.ipynb",
      "provenance": [],
      "mount_file_id": "1aiFDWTF0OV4QcUvIzQohnBF2FM02Sox9",
      "authorship_tag": "ABX9TyNwLx0awGR5uGaAxa0lMkHk",
      "include_colab_link": true
    },
    "kernelspec": {
      "display_name": "Python 3",
      "name": "python3"
    },
    "language_info": {
      "name": "python"
    }
  },
  "nbformat": 4,
  "nbformat_minor": 0
}
